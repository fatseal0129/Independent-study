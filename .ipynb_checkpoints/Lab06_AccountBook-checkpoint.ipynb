{
 "cells": [
  {
   "cell_type": "markdown",
   "id": "2ba45320",
   "metadata": {},
   "source": [
    "# Practice #0 建立字典\n",
    "- 定義函式expense()供使用者輸入所花費的項目與金額，並將其已字典回傳。"
   ]
  },
  {
   "cell_type": "code",
   "execution_count": 2,
   "id": "15c39e66",
   "metadata": {},
   "outputs": [],
   "source": [
    "my_dict1 = {}\n",
    "\n",
    "my_dict2 = dict()\n",
    "\n",
    "my_dict3 = {'aluba':1,'Darren':2,'Villain':3}"
   ]
  },
  {
   "cell_type": "code",
   "execution_count": 4,
   "id": "2d9043b0",
   "metadata": {},
   "outputs": [
    {
     "name": "stdout",
     "output_type": "stream",
     "text": [
      "4\n",
      "dict_values([6, 2, 3, 4])\n"
     ]
    }
   ],
   "source": [
    "my_dict3['Benson'] = 4\n",
    "\n",
    "my_dict3['aluba'] = 6\n",
    "\n",
    "print(my_dict3['Benson'])\n",
    "\n",
    "print(my_dict3.values())\n",
    "\n",
    "print"
   ]
  },
  {
   "cell_type": "code",
   "execution_count": 5,
   "id": "cd6b54ad",
   "metadata": {},
   "outputs": [],
   "source": [
    "def expense():\n",
    "    '''\n",
    "    please complete your code here\n",
    "    '''\n",
    "    \n",
    "    item , spent = input('輸入花費項目與金額: ').split(' ')\n",
    "    \n",
    "    exp = dict({item : spent})\n",
    "    \n",
    "    return exp"
   ]
  },
  {
   "cell_type": "code",
   "execution_count": 6,
   "id": "0d208899",
   "metadata": {},
   "outputs": [
    {
     "name": "stdout",
     "output_type": "stream",
     "text": [
      "輸入花費項目與金額: drink 15\n",
      "{'drink': '15'}\n"
     ]
    }
   ],
   "source": [
    "# test it\n",
    "exp = expense()\n",
    "print(exp)"
   ]
  },
  {
   "cell_type": "markdown",
   "id": "4705ad33",
   "metadata": {},
   "source": [
    "# Practice #1 建立字典\n",
    "- 以函式expense()記錄所花費的項目與金額。\n",
    "- 請為你的帳本建立一個空字典my_expenses，並利用已定義函式expense() 供使用者輸入項目與金額，並且將其依序加入字典my_expenses中。"
   ]
  },
  {
   "cell_type": "code",
   "execution_count": 1,
   "id": "bce06b1f",
   "metadata": {},
   "outputs": [],
   "source": [
    "def expenseRecord():\n",
    "    my_expense = {}\n",
    "    \n",
    "    run = True\n",
    "    while run:\n",
    "        '''\n",
    "        please complete your code here\n",
    "        '''\n",
    "        item , spent = input('輸入花費項目與金額, 以空格隔開: ').split(' ')\n",
    "        ds = dict({item : int(spent)})\n",
    "        my_expense.update(ds)\n",
    "\n",
    "        Continued = input('任意鍵繼續或q退出')\n",
    "        if Continued == 'q':\n",
    "            run = False\n",
    "    return my_expense"
   ]
  },
  {
   "cell_type": "code",
   "execution_count": 2,
   "id": "9fc0c720",
   "metadata": {},
   "outputs": [
    {
     "name": "stdout",
     "output_type": "stream",
     "text": [
      "輸入花費項目與金額, 以空格隔開: a 1\n",
      "任意鍵繼續或q退出\n",
      "輸入花費項目與金額, 以空格隔開: b 2\n",
      "任意鍵繼續或q退出\n",
      "輸入花費項目與金額, 以空格隔開: c 3\n",
      "任意鍵繼續或q退出q\n",
      "{'a': 1, 'b': 2, 'c': 3}\n"
     ]
    }
   ],
   "source": [
    "# test it\n",
    "exp = expenseRecord()\n",
    "print(exp)"
   ]
  },
  {
   "cell_type": "markdown",
   "id": "94c3d175",
   "metadata": {},
   "source": [
    "# Practice #2 迭代字典\n",
    "根據Practice#1所建立的花費項目，將花費金額加總，計算你今天花費多少錢。"
   ]
  },
  {
   "cell_type": "code",
   "execution_count": 26,
   "id": "ad75f94b",
   "metadata": {
    "scrolled": true
   },
   "outputs": [
    {
     "data": {
      "text/plain": [
       "6"
      ]
     },
     "execution_count": 26,
     "metadata": {},
     "output_type": "execute_result"
    }
   ],
   "source": [
    "'''\n",
    "please complete your code here\n",
    "'''\n",
    "# way1:\n",
    "sum(list(exp.values()))"
   ]
  },
  {
   "cell_type": "code",
   "execution_count": null,
   "id": "f78e6aca",
   "metadata": {},
   "outputs": [],
   "source": [
    "# way2:\n",
    "\n",
    "count = 0\n",
    "\n",
    "for value in exp.value:\n",
    "    count += int(value)\n",
    "    \n",
    "print(count)"
   ]
  },
  {
   "cell_type": "markdown",
   "id": "722a14e5",
   "metadata": {},
   "source": [
    "# Practice #3 多層字典\n",
    "<pre>\n",
    "請先定義函式供使用者輸入一日期並輸入一項項目及其花費, 以字典回傳\n",
    "\n",
    "你的回傳值看起來就像這樣:\n",
    "'2023/4/27': {'早餐': '30'}\n",
    "<pre>"
   ]
  },
  {
   "cell_type": "code",
   "execution_count": 27,
   "id": "5ad66989",
   "metadata": {
    "scrolled": true
   },
   "outputs": [],
   "source": [
    "def newExpense():\n",
    "    my_expense = {}\n",
    "    \n",
    "    '''\n",
    "    please complete your code here\n",
    "    '''\n",
    "    date , item , spent = input('輸入一日期並輸入一項項目及其花費, 以空格隔開: ').split(' ')\n",
    "    ds = dict({date : {item : int(spent)}})\n",
    "    \n",
    "    return my_expense"
   ]
  },
  {
   "cell_type": "code",
   "execution_count": 28,
   "id": "1f47c0b6",
   "metadata": {},
   "outputs": [
    {
     "name": "stdout",
     "output_type": "stream",
     "text": [
      "輸入一日期並輸入一項項目及其花費, 以空格隔開: 2023/4/27 lunch 45\n",
      "{'2023/4/27': {'lunch': 45}}\n"
     ]
    }
   ],
   "source": [
    "# test it\n",
    "exp = newExpense()\n",
    "print(exp)"
   ]
  },
  {
   "cell_type": "markdown",
   "id": "12ecfa76",
   "metadata": {},
   "source": [
    "# Practice #4 多層字典\n",
    "<pre>\n",
    "輸入多個日期的花費項目與金額\n",
    "你的回傳值看起來就像這樣:\n",
    "'2023/4/27': {'早餐': '30',\n",
    "              '午餐': '60',\n",
    "              '飲料': '35',\n",
    "              '滑鼠': '3980',\n",
    "              '鮭魚': '1999',\n",
    "              '晚餐': '320'}\n",
    "...\n",
    "</pre>"
   ]
  },
  {
   "cell_type": "code",
   "execution_count": 5,
   "id": "410dfce9",
   "metadata": {},
   "outputs": [],
   "source": [
    "def expenseRecord():\n",
    "    my_expense = {}\n",
    "    \n",
    "    run = True\n",
    "    while run:\n",
    "        '''\n",
    "        please complete your code here\n",
    "        '''\n",
    "        item , spent = input('輸入花費項目與金額, 以空格隔開: ').split(' ')\n",
    "        ds = dict({item : int(spent)})\n",
    "        my_expense.update(ds)\n",
    "\n",
    "        Continued = input('任意鍵繼續或q退出')\n",
    "        if Continued == 'q':\n",
    "            run = False\n",
    "    return my_expense"
   ]
  },
  {
   "cell_type": "code",
   "execution_count": 6,
   "id": "a68043e8",
   "metadata": {},
   "outputs": [
    {
     "name": "stdout",
     "output_type": "stream",
     "text": [
      "輸入花費項目與金額, 以空格隔開: Breakfast 85\n",
      "任意鍵繼續或q退出\n",
      "輸入花費項目與金額, 以空格隔開: Lunch 45\n",
      "任意鍵繼續或q退出\n",
      "輸入花費項目與金額, 以空格隔開: Drink 60\n",
      "任意鍵繼續或q退出q\n",
      "{'Breakfast': 85, 'Lunch': 45, 'Drink': 60}\n"
     ]
    }
   ],
   "source": [
    "# test it\n",
    "exp1 = expenseRecord()\n",
    "print(exp1)"
   ]
  },
  {
   "cell_type": "code",
   "execution_count": 7,
   "id": "a978c18b",
   "metadata": {},
   "outputs": [],
   "source": [
    "\n",
    "def newExpense2():\n",
    "    my_expense2 = {}\n",
    "    '''\n",
    "    please complete your code here\n",
    "    '''\n",
    "    date = input('輸入一日期: ')\n",
    "    s = dict({date : exp1})\n",
    "    my_expense2.update(s)\n",
    "\n",
    "    return my_expense2"
   ]
  },
  {
   "cell_type": "code",
   "execution_count": 8,
   "id": "0237acd2",
   "metadata": {},
   "outputs": [
    {
     "name": "stdout",
     "output_type": "stream",
     "text": [
      "輸入一日期: 2023/4/26\n",
      "{'2023/4/26': {'Breakfast': 85, 'Lunch': 45, 'Drink': 60}}\n"
     ]
    }
   ],
   "source": [
    "'''\n",
    "test it with:\n",
    "2023/4/27\n",
    "早餐 30\n",
    "午餐 60\n",
    "晚餐 120\n",
    "'''\n",
    "\n",
    "exp = newExpense2()\n",
    "print(exp)"
   ]
  },
  {
   "cell_type": "code",
   "execution_count": null,
   "id": "672368ab",
   "metadata": {},
   "outputs": [],
   "source": [
    "def newExpense2():\n",
    "    my_expense = {}\n",
    "    '''\n",
    "    please complete your code here\n",
    "    '''\n",
    "    run = True\n",
    "    while run:\n",
    "        date , item , spent = input('輸入一日期並輸入一項項目及其花費, 以空格隔開: ').split(' ')\n",
    "        ds = dict({date : {item : int(spent)}})\n",
    "        my_expense.update(ds)\n",
    "        if date in ds:\n",
    "            \n",
    "    \n",
    "        Continued = input('任意鍵繼續或q退出')\n",
    "        if Continued == 'q':\n",
    "            run = False\n",
    "    return my_expense"
   ]
  },
  {
   "cell_type": "code",
   "execution_count": 32,
   "id": "25a08bd0",
   "metadata": {},
   "outputs": [
    {
     "name": "stdout",
     "output_type": "stream",
     "text": [
      "輸入一日期並輸入一項項目及其花費, 以空格隔開: 2023/4/27 lunch 45\n",
      "任意鍵繼續或q退出 \n",
      "輸入一日期並輸入一項項目及其花費, 以空格隔開: 2023/4/27 drink 60\n",
      "任意鍵繼續或q退出 \n",
      "輸入一日期並輸入一項項目及其花費, 以空格隔開: 2023/4/27 dessert 100\n",
      "任意鍵繼續或q退出q\n",
      "{'2023/4/27': {'dessert': 100}}\n"
     ]
    }
   ],
   "source": [
    "'''\n",
    "test it with:\n",
    "2023/4/27\n",
    "早餐 30\n",
    "午餐 60\n",
    "晚餐 120\n",
    "'''\n",
    "\n",
    "exp = newExpense2()\n",
    "print(exp)"
   ]
  },
  {
   "cell_type": "markdown",
   "id": "04f7c0db",
   "metadata": {},
   "source": [
    "# Practice #5 多層字典\n",
    "設計一函式accountUpdate()，其中透過呼叫使用剛才設計的函式newExpense2()來輸入日期及其花費項目，再根據該日期是否已在accountBook中，判斷應新增或者更新accountBook，使使用者可透過呼叫accountUpdate()隨時記錄每一天的花費。"
   ]
  },
  {
   "cell_type": "code",
   "execution_count": 6,
   "id": "ac1897b7",
   "metadata": {},
   "outputs": [],
   "source": [
    "accountBook = {}"
   ]
  },
  {
   "cell_type": "code",
   "execution_count": 7,
   "id": "694f91cd",
   "metadata": {},
   "outputs": [],
   "source": [
    "def accountUpdate():\n",
    "    global accountBook\n",
    "\n",
    "    '''\n",
    "    please complete your code here\n",
    "    '''\n",
    "    if \n",
    "    accountBook.update()\n",
    "    \n",
    "    return accountBook"
   ]
  },
  {
   "cell_type": "markdown",
   "id": "a83f1cdf",
   "metadata": {},
   "source": [
    "### test it below:"
   ]
  },
  {
   "cell_type": "code",
   "execution_count": 8,
   "id": "1fb49954",
   "metadata": {},
   "outputs": [
    {
     "data": {
      "text/plain": [
       "{}"
      ]
     },
     "execution_count": 8,
     "metadata": {},
     "output_type": "execute_result"
    }
   ],
   "source": [
    "accountBook"
   ]
  },
  {
   "cell_type": "code",
   "execution_count": 9,
   "id": "d8207b84",
   "metadata": {},
   "outputs": [
    {
     "name": "stdout",
     "output_type": "stream",
     "text": [
      "輸入日期(ex: 2023/4/27): 2023/4/27\n",
      "輸入花費項目與金額, 以空格隔開: 早餐 30\n",
      "任意鍵繼續或q退出\n",
      "輸入花費項目與金額, 以空格隔開: 午餐 45\n",
      "任意鍵繼續或q退出\n",
      "輸入花費項目與金額, 以空格隔開: 晚餐 320\n",
      "任意鍵繼續或q退出\n",
      "輸入花費項目與金額, 以空格隔開: 滑鼠 3980\n",
      "任意鍵繼續或q退出\n",
      "輸入花費項目與金額, 以空格隔開: 鮭魚衣服 1999\n",
      "任意鍵繼續或q退出q\n"
     ]
    },
    {
     "data": {
      "text/plain": [
       "{'2023/4/27': {'早餐': '30',\n",
       "  '午餐': '45',\n",
       "  '晚餐': '320',\n",
       "  '滑鼠': '3980',\n",
       "  '鮭魚衣服': '1999'}}"
      ]
     },
     "execution_count": 9,
     "metadata": {},
     "output_type": "execute_result"
    }
   ],
   "source": [
    "accountUpdate()"
   ]
  },
  {
   "cell_type": "code",
   "execution_count": 11,
   "id": "0891a849",
   "metadata": {},
   "outputs": [
    {
     "name": "stdout",
     "output_type": "stream",
     "text": [
      "輸入日期(ex: 2023/4/27): 2023/4/27\n",
      "輸入花費項目與金額, 以空格隔開: 飲料 35\n",
      "任意鍵繼續或q退出q\n"
     ]
    },
    {
     "data": {
      "text/plain": [
       "{'2023/4/27': {'早餐': '30',\n",
       "  '午餐': '45',\n",
       "  '晚餐': '320',\n",
       "  '滑鼠': '3980',\n",
       "  '鮭魚衣服': '1999',\n",
       "  '飲料': '35'}}"
      ]
     },
     "execution_count": 11,
     "metadata": {},
     "output_type": "execute_result"
    }
   ],
   "source": [
    "# try adding records in the same day\n",
    "accountUpdate()"
   ]
  },
  {
   "cell_type": "code",
   "execution_count": 12,
   "id": "e561b92d",
   "metadata": {},
   "outputs": [
    {
     "name": "stdout",
     "output_type": "stream",
     "text": [
      "輸入日期(ex: 2023/4/27): 2023/4/26\n",
      "輸入花費項目與金額, 以空格隔開: 早餐 10\n",
      "任意鍵繼續或q退出q\n"
     ]
    },
    {
     "data": {
      "text/plain": [
       "{'2023/4/27': {'早餐': '30',\n",
       "  '午餐': '45',\n",
       "  '晚餐': '320',\n",
       "  '滑鼠': '3980',\n",
       "  '鮭魚衣服': '1999',\n",
       "  '飲料': '35'},\n",
       " '2023/4/26': {'早餐': '10'}}"
      ]
     },
     "execution_count": 12,
     "metadata": {},
     "output_type": "execute_result"
    }
   ],
   "source": [
    "# try adding records in different day\n",
    "accountUpdate()"
   ]
  },
  {
   "cell_type": "markdown",
   "id": "ef3b000f",
   "metadata": {},
   "source": [
    "# Bonus\n",
    "恭喜你完成你的帳本! 那麼接下來, 你可以利用帳本中的金額計算每日花費，或進行花費項目統計嗎? "
   ]
  },
  {
   "cell_type": "code",
   "execution_count": null,
   "id": "d735ba64",
   "metadata": {},
   "outputs": [],
   "source": []
  }
 ],
 "metadata": {
  "kernelspec": {
   "display_name": "Python 3",
   "language": "python",
   "name": "python3"
  },
  "language_info": {
   "codemirror_mode": {
    "name": "ipython",
    "version": 3
   },
   "file_extension": ".py",
   "mimetype": "text/x-python",
   "name": "python",
   "nbconvert_exporter": "python",
   "pygments_lexer": "ipython3",
   "version": "3.8.8"
  }
 },
 "nbformat": 4,
 "nbformat_minor": 5
}
